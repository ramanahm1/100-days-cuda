{
  "nbformat": 4,
  "nbformat_minor": 0,
  "metadata": {
    "colab": {
      "provenance": [],
      "gpuType": "T4"
    },
    "kernelspec": {
      "name": "python3",
      "display_name": "Python 3"
    },
    "language_info": {
      "name": "python"
    },
    "accelerator": "GPU"
  },
  "cells": [
    {
      "cell_type": "code",
      "execution_count": 8,
      "metadata": {
        "colab": {
          "base_uri": "https://localhost:8080/"
        },
        "id": "ZemxqtuuSiiU",
        "outputId": "b8fb9774-d014-437b-a02c-b6aece4aab55"
      },
      "outputs": [
        {
          "output_type": "stream",
          "name": "stdout",
          "text": [
            "Overwriting vector_mat_mul.cu\n"
          ]
        }
      ],
      "source": [
        "%%writefile vector_mat_mul.cu\n",
        "#include <iostream>\n",
        "#include <cmath>\n",
        "\n",
        "__global__ void vecMatMul(float *A, float *B, float *C, int N) {\n",
        "  int i = blockIdx.x * blockDim.x + threadIdx.x;\n",
        "\n",
        "  if (i < N) {\n",
        "    float summ = 0.0f;\n",
        "    for (int j = 0; j < N; j++) {\n",
        "      summ += A[i * N + j] * B[j];\n",
        "    }\n",
        "    C[i] = summ;\n",
        "  }\n",
        "}\n",
        "\n",
        "int main() {\n",
        "  int N = 10;\n",
        "\n",
        "  float *A, *B, *C;\n",
        "\n",
        "  A = (float *)malloc(N * N * sizeof(float));\n",
        "  B = (float *)malloc(N * sizeof(float));\n",
        "  C = (float *)malloc(N * sizeof(float));\n",
        "\n",
        "  // Fill A, B, C;\n",
        "\n",
        "  for (int i = 0; i < N; i++) {\n",
        "    for (int j = 0; j < N; j++) {\n",
        "      A[i * N + j] = 1.0f;\n",
        "    }\n",
        "    B[i] = 2.0f;\n",
        "    C[i] = 0.0f;\n",
        "  }\n",
        "\n",
        "  float *d_a, *d_b, *d_c;\n",
        "\n",
        "  cudaMalloc((void **)&d_a, N * N * sizeof(float));\n",
        "  cudaMalloc((void **)&d_b, N * sizeof(float));\n",
        "  cudaMalloc((void **)&d_c, N * sizeof(float));\n",
        "\n",
        "\n",
        "  cudaMemcpy(d_a, A, N*N*sizeof(float), cudaMemcpyHostToDevice);\n",
        "  cudaMemcpy(d_b, B, N*sizeof(float), cudaMemcpyHostToDevice);\n",
        "  cudaMemcpy(d_c, C, N*sizeof(float), cudaMemcpyHostToDevice);\n",
        "\n",
        "  int blockSize = 256;\n",
        "  int gridSize = (N + blockSize - 1) / blockSize;\n",
        "\n",
        "  vecMatMul<<<gridSize, blockSize>>>(d_a, d_b, d_c, N);\n",
        "\n",
        "  cudaDeviceSynchronize();\n",
        "\n",
        "  cudaMemcpy(C, d_c, N*sizeof(float), cudaMemcpyDeviceToHost);\n",
        "\n",
        "  printf(\"A:\\n\");\n",
        "  for (int i = 0; i < N; i++) {\n",
        "    for (int j = 0; j < N; j++) {\n",
        "      printf(\"%f \", A[i * N + j]);\n",
        "    }\n",
        "    printf(\"\\n\");\n",
        "  }\n",
        "\n",
        "  printf(\"B:\\n\");\n",
        "  for (int i = 0; i < N; i++) {\n",
        "    printf(\"%f \", B[i]);\n",
        "  }\n",
        "\n",
        "  printf(\"C:\\n\");\n",
        "  for (int i = 0; i < N; i++) {\n",
        "    printf(\"%f \", C[i]);\n",
        "  }\n",
        "\n",
        "  cudaFree(d_a);\n",
        "  cudaFree(d_b);\n",
        "  cudaFree(d_c);\n",
        "\n",
        "  return 0;\n",
        "}"
      ]
    },
    {
      "cell_type": "code",
      "source": [
        "!nvcc -o vector_mat_mul vector_mat_mul.cu -arch=sm_75"
      ],
      "metadata": {
        "id": "YdUmk3ahWDug"
      },
      "execution_count": 9,
      "outputs": []
    },
    {
      "cell_type": "code",
      "source": [
        "!./vector_mat_mul"
      ],
      "metadata": {
        "colab": {
          "base_uri": "https://localhost:8080/"
        },
        "id": "BVLvE5_-WL9E",
        "outputId": "d70867af-0633-4f35-c44b-560678996bd7"
      },
      "execution_count": 10,
      "outputs": [
        {
          "output_type": "stream",
          "name": "stdout",
          "text": [
            "A:\n",
            "1.000000 1.000000 1.000000 1.000000 1.000000 1.000000 1.000000 1.000000 1.000000 1.000000 \n",
            "1.000000 1.000000 1.000000 1.000000 1.000000 1.000000 1.000000 1.000000 1.000000 1.000000 \n",
            "1.000000 1.000000 1.000000 1.000000 1.000000 1.000000 1.000000 1.000000 1.000000 1.000000 \n",
            "1.000000 1.000000 1.000000 1.000000 1.000000 1.000000 1.000000 1.000000 1.000000 1.000000 \n",
            "1.000000 1.000000 1.000000 1.000000 1.000000 1.000000 1.000000 1.000000 1.000000 1.000000 \n",
            "1.000000 1.000000 1.000000 1.000000 1.000000 1.000000 1.000000 1.000000 1.000000 1.000000 \n",
            "1.000000 1.000000 1.000000 1.000000 1.000000 1.000000 1.000000 1.000000 1.000000 1.000000 \n",
            "1.000000 1.000000 1.000000 1.000000 1.000000 1.000000 1.000000 1.000000 1.000000 1.000000 \n",
            "1.000000 1.000000 1.000000 1.000000 1.000000 1.000000 1.000000 1.000000 1.000000 1.000000 \n",
            "1.000000 1.000000 1.000000 1.000000 1.000000 1.000000 1.000000 1.000000 1.000000 1.000000 \n",
            "B:\n",
            "2.000000 2.000000 2.000000 2.000000 2.000000 2.000000 2.000000 2.000000 2.000000 2.000000 C:\n",
            "20.000000 20.000000 20.000000 20.000000 20.000000 20.000000 20.000000 20.000000 20.000000 20.000000 "
          ]
        }
      ]
    },
    {
      "cell_type": "code",
      "source": [],
      "metadata": {
        "id": "pRErrhCXWqxK"
      },
      "execution_count": null,
      "outputs": []
    }
  ]
}