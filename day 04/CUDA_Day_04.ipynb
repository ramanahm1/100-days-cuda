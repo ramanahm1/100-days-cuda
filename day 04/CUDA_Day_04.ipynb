{
  "nbformat": 4,
  "nbformat_minor": 0,
  "metadata": {
    "colab": {
      "provenance": []
    },
    "kernelspec": {
      "name": "python3",
      "display_name": "Python 3"
    },
    "language_info": {
      "name": "python"
    }
  },
  "cells": [
    {
      "cell_type": "code",
      "execution_count": 3,
      "metadata": {
        "colab": {
          "base_uri": "https://localhost:8080/"
        },
        "id": "btUeOY9KlQiz",
        "outputId": "0ffd95a4-48c8-4932-d65c-fdf6e63b90f1"
      },
      "outputs": [
        {
          "output_type": "stream",
          "name": "stdout",
          "text": [
            "Writing cumulative_sum.cu\n"
          ]
        }
      ],
      "source": [
        "%%writefile cumulative_sum.cu\n",
        "#include <iostream>\n",
        "\n",
        "__global__ void scanWithSharedMemory(int *device_input, int *device_output, int total_elements) {\n",
        "    extern __shared__ int local_buffer[];\n",
        "\n",
        "    int local_id = threadIdx.x;\n",
        "    int global_id = 2 * blockDim.x * blockIdx.x + local_id;\n",
        "\n",
        "    if (global_id + blockDim.x < total_elements) {\n",
        "        local_buffer[local_id] = device_input[global_id] + device_input[global_id + blockDim.x];\n",
        "        __syncthreads();\n",
        "\n",
        "        for (int step = 1; step < blockDim.x; step *= 2) {\n",
        "            int temp = 0;\n",
        "            if (local_id >= step) {\n",
        "                temp = local_buffer[local_id - step];\n",
        "            }\n",
        "            __syncthreads();\n",
        "            local_buffer[local_id] += temp;\n",
        "            __syncthreads();\n",
        "        }\n",
        "\n",
        "        device_output[global_id] = local_buffer[local_id];\n",
        "    }\n",
        "}\n",
        "\n",
        "int main() {\n",
        "    const int NUM_ELEMENTS = 16;\n",
        "    const int THREADS_PER_BLOCK = 8;\n",
        "\n",
        "    int host_input[NUM_ELEMENTS]  = {1, 2, 3, 4, 5, 6, 7, 8, 9, 10, 11, 12, 13, 14, 15, 16};\n",
        "    int host_output[NUM_ELEMENTS] = {0};\n",
        "\n",
        "    int *gpu_input, *gpu_output;\n",
        "    size_t mem_size = NUM_ELEMENTS * sizeof(int);\n",
        "\n",
        "    cudaMalloc((void**)&gpu_input, mem_size);\n",
        "    cudaMalloc((void**)&gpu_output, mem_size);\n",
        "\n",
        "    cudaMemcpy(gpu_input, host_input, mem_size, cudaMemcpyHostToDevice);\n",
        "\n",
        "    int blocks = NUM_ELEMENTS / THREADS_PER_BLOCK;\n",
        "    int shared_memory_bytes = THREADS_PER_BLOCK * sizeof(int);\n",
        "    scanWithSharedMemory<<<blocks, THREADS_PER_BLOCK, shared_memory_bytes>>>(gpu_input, gpu_output, NUM_ELEMENTS);\n",
        "\n",
        "    cudaMemcpy(host_output, gpu_output, mem_size, cudaMemcpyDeviceToHost);\n",
        "\n",
        "    printf(\"Original Array: \");\n",
        "    for (int i = 0; i < NUM_ELEMENTS; ++i) {\n",
        "        printf(\"%d \", host_input[i]);\n",
        "    }\n",
        "\n",
        "    printf(\"\\nScanned Result: \");\n",
        "    for (int i = 0; i < NUM_ELEMENTS; ++i) {\n",
        "        printf(\"%d \", host_output[i]);\n",
        "    }\n",
        "    printf(\"\\n\");\n",
        "\n",
        "    cudaFree(gpu_input);\n",
        "    cudaFree(gpu_output);\n",
        "\n",
        "    return 0;\n",
        "}"
      ]
    },
    {
      "cell_type": "code",
      "source": [
        "!nvcc -o cumulative_sum cumulative_sum.cu -arch=sm_75"
      ],
      "metadata": {
        "id": "4BpUwlqQlpk6"
      },
      "execution_count": 4,
      "outputs": []
    },
    {
      "cell_type": "code",
      "source": [
        "!./cumulative_sum"
      ],
      "metadata": {
        "colab": {
          "base_uri": "https://localhost:8080/"
        },
        "id": "pgwtObY4mEO5",
        "outputId": "ad0b6001-c16d-414a-a98f-8fcddd0cbdb4"
      },
      "execution_count": 5,
      "outputs": [
        {
          "output_type": "stream",
          "name": "stdout",
          "text": [
            "Original Array: 1 2 3 4 5 6 7 8 9 10 11 12 13 14 15 16 \n",
            "Scanned Result: 0 0 0 0 0 0 0 0 0 0 0 0 0 0 0 0 \n"
          ]
        }
      ]
    },
    {
      "cell_type": "code",
      "source": [],
      "metadata": {
        "id": "SM_YyZH-mIZL"
      },
      "execution_count": null,
      "outputs": []
    }
  ]
}